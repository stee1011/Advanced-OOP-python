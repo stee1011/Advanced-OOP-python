{
 "cells": [
  {
   "cell_type": "code",
   "execution_count": 62,
   "id": "14981e5b-cf81-44db-aa75-e97714c85cda",
   "metadata": {},
   "outputs": [
    {
     "name": "stdout",
     "output_type": "stream",
     "text": [
      "Name of the object: circle\n",
      "Setting Object parameters circle(Pi = (3.14))\n",
      "Destructed\n",
      "The area of the object is 615.999999832\n",
      "Name of the object: rectangle\n",
      "Destructed\n",
      "Area of The rect is 140\n"
     ]
    }
   ],
   "source": [
    "class Object:\n",
    "    def __init__(self, name : str, attr : str, pi : int, area : float) -> None:\n",
    "        self.area = area\n",
    "        self.attr = attr\n",
    "        self.name = name\n",
    "        self.name = name.strip().lower()\n",
    "        print(f\"Name of the object: {self.name}\")\n",
    "        \n",
    "        \n",
    "    def get_area(self) -> None: \n",
    "        if self.name == \"circle\":\n",
    "            \n",
    "            self.attr = \"Setting Object parameters circle(Pi = (3.14))\"\n",
    "            print(self.attr)\n",
    "            self.pi = 3.142857142\n",
    "        if self.name == \"rectanGle\":\n",
    "            self.attr = \"Setting Object parameters Rectangle\"\n",
    "            print(self.attr)\n",
    "\n",
    "    def parent_sigh() -> None:\n",
    "        print(\"You are using parent methods:\")\n",
    "            \n",
    "class Circle(Object):\n",
    "    def __init__(self, radius : int, *args : int, **kwargs : any) -> None:\n",
    "        super(Circle, self).__init__(*args, **kwargs)\n",
    "        self.radius = radius\n",
    "        self.radius = 14\n",
    "        super().get_area()\n",
    "    def get_area(self, area):\n",
    "        self.area = area\n",
    "        self.area = self.pi * self.radius * self.radius\n",
    "        print(f\"The area of the object is {self.area}\")\n",
    "\n",
    "    def __del__(self):\n",
    "        print(\"Destructed\")\n",
    "\n",
    "class Rectangle(Object):\n",
    "    def __init__(self, length : int, width : int,*args : int | None, **kwargs : any) -> None:\n",
    "        super(Rectangle, self).__init__(*args, **kwargs)\n",
    "        self.length = int(length)\n",
    "        self.width = int(width)\n",
    "        def area_c() -> float:\n",
    "            return self.length * self.width\n",
    "        #self.area = area\n",
    "        self.area = area_c()\n",
    "    def get_area(self):\n",
    "        print(f\"Area of The rect is {self.area}\")\n",
    "\n",
    "    def __del__(self):\n",
    "        print(\"Destructed\")\n",
    "        \n",
    "            \n",
    "\n",
    "c = Circle(\n",
    "    radius=14,\n",
    "    name=\"circle\",\n",
    "    attr=\"some attr\",\n",
    "    pi=3.14,\n",
    "    area=0\n",
    ")\n",
    "\n",
    "c.get_area(14)\n",
    "\n",
    "d = Rectangle(\n",
    "    14,10,\n",
    "    name=\"rectanGle\",\n",
    "    attr=\"some attr\",\n",
    "    pi=3.14,\n",
    "    area=0\n",
    ")\n",
    "\n",
    "d.get_area()  \n",
    "    \n",
    "            "
   ]
  },
  {
   "cell_type": "code",
   "execution_count": 63,
   "id": "7a5206ff-9d37-41fc-bfac-b31fe9dc2fdf",
   "metadata": {},
   "outputs": [
    {
     "name": "stdout",
     "output_type": "stream",
     "text": [
      "3\n",
      "Hello: steve\n"
     ]
    }
   ],
   "source": [
    "def greet(*args : int, **kwargs : any) -> None:\n",
    "    print(sum(args))\n",
    "    print(f\"Hello: {kwargs['person']}\")\n",
    "\n",
    "greet(1,2,person='steve')\n",
    "    "
   ]
  },
  {
   "cell_type": "code",
   "execution_count": 55,
   "id": "c09352ae-9ca3-46d6-b316-1c7236030217",
   "metadata": {},
   "outputs": [
    {
     "name": "stdout",
     "output_type": "stream",
     "text": [
      "Name of the object: rectangle\n",
      "Area of The rect is 140\n"
     ]
    }
   ],
   "source": [
    "d = Rectangle(\n",
    "    14,10,\n",
    "    name=\"rectangle\",\n",
    "    attr=\"some attr\",\n",
    "    pi=3.14,\n",
    "    area=0\n",
    ")\n",
    "\n",
    "d.get_area()\n"
   ]
  },
  {
   "cell_type": "code",
   "execution_count": null,
   "id": "4b62ad53-cfd4-4fba-baba-a216227a8670",
   "metadata": {},
   "outputs": [],
   "source": []
  },
  {
   "cell_type": "code",
   "execution_count": null,
   "id": "fa70826e-1408-4da9-8fb4-f693e23bde9f",
   "metadata": {},
   "outputs": [],
   "source": []
  }
 ],
 "metadata": {
  "kernelspec": {
   "display_name": "Python 3 (ipykernel)",
   "language": "python",
   "name": "python3"
  },
  "language_info": {
   "codemirror_mode": {
    "name": "ipython",
    "version": 3
   },
   "file_extension": ".py",
   "mimetype": "text/x-python",
   "name": "python",
   "nbconvert_exporter": "python",
   "pygments_lexer": "ipython3",
   "version": "3.13.5"
  }
 },
 "nbformat": 4,
 "nbformat_minor": 5
}
